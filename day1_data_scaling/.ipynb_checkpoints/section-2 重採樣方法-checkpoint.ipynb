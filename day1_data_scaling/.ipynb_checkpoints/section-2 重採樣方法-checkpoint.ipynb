{
 "cells": [
  {
   "cell_type": "markdown",
   "metadata": {},
   "source": [
    "# 重採樣方法\n",
    "\n",
    "機器學習建模的目標是創建能夠對新資料進行良好預測的模型；新資料的定義是在創造機器學習模型時還沒有被模型所\"學習\"的資料。換句話說就是在訓練資料以外的資料。因此我們必須使用統計方法來估計模型在預測新資料上的表現。\n",
    "\n",
    "### 什麼是重採樣方法\n",
    "\n",
    "重採樣方法的目標是充分利用訓練資料，估計機器學習模型在預測訓練資料以外的新資料的表現。重採樣方法可幫助機器學習的模型、特徵選擇。\n",
    "以下是兩種常見的重採樣方法:\n",
    "<li>train test split\n",
    "<li>k-fold Cross-Validation Split"
   ]
  },
  {
   "cell_type": "markdown",
   "metadata": {},
   "source": [
    "### 1.train test split\n",
    "\n",
    "train test split是最廣泛使用的重採樣方法，分成訓練、測試兩部分：\n",
    "<li>訓練資料集\n",
    "<li>測試資料集\n",
    "機器學習算法使用訓練數據集來訓練模型。並用測試資料於評估模型的性能。上述的兩種資料集是從現有資料中隨機抽樣，這是為了確保模型的訓練和評估是客觀的。常用的訓練、測試資料的比例為7:3、6:4、5:5。"
   ]
  },
  {
   "cell_type": "code",
   "execution_count": 21,
   "metadata": {},
   "outputs": [],
   "source": [
    "from random import randrange\n",
    "from random import seed"
   ]
  },
  {
   "cell_type": "code",
   "execution_count": 26,
   "metadata": {},
   "outputs": [],
   "source": [
    "def train_test_split(data, train_size=0.6):\n",
    "    \"\"\"\n",
    "    Split data into train and test sets.\n",
    "    \n",
    "    parameters:\n",
    "    data(pandas.DataFrame):The input dataframe. \n",
    "    train_size(float):The ratio of training data.\n",
    "    \n",
    "    return:\n",
    "    train_data(pandas.DataFrame), test_data(pandas.DataFrame):train and test sets.\n",
    "    \"\"\"\n",
    "    train_data = []\n",
    "    number_of_rows_for_train_data = len(data) * train_size\n",
    "    data_clone = list(data)\n",
    "    \n",
    "    while len(train_data) < number_of_rows_for_train_data:\n",
    "        random_index = randrange(len(data_clone))\n",
    "        train_data.append(data_clone.pop(random_index))\n",
    "        \n",
    "    test_data = data_clone\n",
    "    \n",
    "    return train_data, test_data"
   ]
  },
  {
   "cell_type": "code",
   "execution_count": 27,
   "metadata": {},
   "outputs": [
    {
     "name": "stdout",
     "output_type": "stream",
     "text": [
      "[[3], [2], [7], [1], [8], [9]]\n",
      "[[4], [5], [6], [10]]\n"
     ]
    }
   ],
   "source": [
    "seed(1)\n",
    "dataset = [[1], [2], [3], [4], [5], [6], [7], [8], [9], [10]]\n",
    "train, test = train_test_split(dataset)\n",
    "print(train)\n",
    "print(test)"
   ]
  },
  {
   "cell_type": "markdown",
   "metadata": {},
   "source": [
    "### 2.k-fold Cross-Validation Split\n",
    "\n",
    "使用train test split的重採樣方法來估算模型對於新資料的預測估計通常是有許多的noise。k-fold Cross-Validation Split（交叉驗證）提供更準確的估計。通過首先將資料分成k組，每組資料稱為折疊(fold)，因此名稱為k-fold交叉驗證。它的原理是用k-1組資料訓練機器學習模型並用剩下的一組資料作為測試集進行評估。\n",
    "\n",
    "為k選擇一個值，對於較小的數據集，k=3是不錯的常用數字，對於較大的數據集則使用k=10。驗證折疊尺寸(k)是否具有代表性的快速方法是計算統計敘述，例如平均值和標準差，並從整個數據集的相同統計數據中查看值的差異，取預測精度最高的折疊尺寸。"
   ]
  },
  {
   "cell_type": "code",
   "execution_count": 30,
   "metadata": {},
   "outputs": [],
   "source": [
    "def k_fold_Cross_Validation_Split(data, k_folds):\n",
    "    \"\"\"\n",
    "    Split data into k folds.\n",
    "    \n",
    "    parameters:\n",
    "    data(pandas.DataFrame):The input dataframe. \n",
    "    k_folds(int):The number of data group after split.\n",
    "    \n",
    "    return:\n",
    "    folds(list(list)):k_fold_Cross_Validation_Split.\n",
    "    \"\"\"\n",
    "    fold_size = int(len(data) / k_folds)\n",
    "    folds = []\n",
    "    data_clone = list(data)\n",
    "    \n",
    "    for _ in range(k_folds):\n",
    "        fold = []\n",
    "        while len(fold) < fold_size:\n",
    "            random_index = randrange(len(data_clone))\n",
    "            fold.append(data_clone.pop(random_index))\n",
    "\n",
    "        folds.append(fold)\n",
    "    \n",
    "    return folds"
   ]
  },
  {
   "cell_type": "code",
   "execution_count": 31,
   "metadata": {},
   "outputs": [
    {
     "data": {
      "text/plain": [
       "[[65, 44, 75, 46, 60, 34, 90, 76, 84, 0],\n",
       " [53, 72, 17, 77, 83, 28, 62, 8, 73, 54],\n",
       " [92, 89, 29, 82, 64, 81, 55, 68, 52, 1],\n",
       " [98, 51, 86, 5, 37, 27, 31, 88, 9, 80],\n",
       " [49, 87, 95, 93, 22, 4, 99, 70, 10, 12],\n",
       " [3, 47, 2, 33, 30, 36, 18, 91, 24, 48],\n",
       " [41, 14, 25, 26, 43, 96, 32, 56, 58, 42],\n",
       " [69, 35, 57, 59, 13, 6, 39, 61, 45, 67],\n",
       " [21, 40, 16, 63, 38, 74, 50, 7, 20, 11],\n",
       " [79, 23, 15, 94, 66, 85, 97, 78, 19, 71]]"
      ]
     },
     "execution_count": 31,
     "metadata": {},
     "output_type": "execute_result"
    }
   ],
   "source": [
    "k_fold_Cross_Validation_Split(range(0, 100), k_folds=10)"
   ]
  }
 ],
 "metadata": {
  "kernelspec": {
   "display_name": "Python 3",
   "language": "python",
   "name": "python3"
  },
  "language_info": {
   "codemirror_mode": {
    "name": "ipython",
    "version": 3
   },
   "file_extension": ".py",
   "mimetype": "text/x-python",
   "name": "python",
   "nbconvert_exporter": "python",
   "pygments_lexer": "ipython3",
   "version": "3.5.5"
  }
 },
 "nbformat": 4,
 "nbformat_minor": 2
}
